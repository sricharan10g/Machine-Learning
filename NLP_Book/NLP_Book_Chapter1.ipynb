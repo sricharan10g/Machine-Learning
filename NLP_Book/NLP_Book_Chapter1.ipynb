{
  "nbformat": 4,
  "nbformat_minor": 0,
  "metadata": {
    "colab": {
      "name": "NLP_Book_Chapter1.ipynb",
      "provenance": [],
      "collapsed_sections": []
    },
    "kernelspec": {
      "name": "python3",
      "display_name": "Python 3"
    },
    "language_info": {
      "name": "python"
    }
  },
  "cells": [
    {
      "cell_type": "markdown",
      "source": [
        "# **1. Language Processing and Python**\n"
      ],
      "metadata": {
        "id": "nlcbq6rEsMSH"
      }
    },
    {
      "cell_type": "code",
      "execution_count": 52,
      "metadata": {
        "colab": {
          "base_uri": "https://localhost:8080/"
        },
        "id": "IvAJC1Et9Qeo",
        "outputId": "c86df125-6b9a-40be-91ef-99c1f3cf6445"
      },
      "outputs": [
        {
          "output_type": "stream",
          "name": "stderr",
          "text": [
            "[nltk_data] Downloading package gutenberg to /root/nltk_data...\n",
            "[nltk_data]   Package gutenberg is already up-to-date!\n",
            "[nltk_data] Downloading package inaugural to /root/nltk_data...\n",
            "[nltk_data]   Package inaugural is already up-to-date!\n",
            "[nltk_data] Downloading package genesis to /root/nltk_data...\n",
            "[nltk_data]   Package genesis is already up-to-date!\n",
            "[nltk_data] Downloading package treebank to /root/nltk_data...\n",
            "[nltk_data]   Package treebank is already up-to-date!\n",
            "[nltk_data] Downloading package nps_chat to /root/nltk_data...\n",
            "[nltk_data]   Package nps_chat is already up-to-date!\n",
            "[nltk_data] Downloading package webtext to /root/nltk_data...\n",
            "[nltk_data]   Package webtext is already up-to-date!\n",
            "[nltk_data] Downloading package stopwords to /root/nltk_data...\n",
            "[nltk_data]   Unzipping corpora/stopwords.zip.\n"
          ]
        }
      ],
      "source": [
        "import nltk\n",
        "nltk.download('gutenberg')\n",
        "nltk.download('inaugural')\n",
        "nltk.download('genesis')\n",
        "nltk.download('treebank')\n",
        "nltk.download('nps_chat')\n",
        "nltk.download('webtext')\n",
        "nltk.download('stopwords')\n",
        "from nltk.book import *"
      ]
    },
    {
      "cell_type": "code",
      "source": [
        "text1"
      ],
      "metadata": {
        "colab": {
          "base_uri": "https://localhost:8080/"
        },
        "id": "juGGqmDk9k6d",
        "outputId": "8a56d610-5274-4bd3-9ba2-363dc47347c4"
      },
      "execution_count": 53,
      "outputs": [
        {
          "output_type": "execute_result",
          "data": {
            "text/plain": [
              "<Text: Moby Dick by Herman Melville 1851>"
            ]
          },
          "metadata": {},
          "execution_count": 53
        }
      ]
    },
    {
      "cell_type": "code",
      "source": [
        "#for searching\n",
        "text1.concordance(\"Happy\")"
      ],
      "metadata": {
        "colab": {
          "base_uri": "https://localhost:8080/"
        },
        "id": "sfwbKxOG-SJ-",
        "outputId": "fd36260b-6e8d-481f-ff05-08a8698e6ab6"
      },
      "execution_count": 54,
      "outputs": [
        {
          "output_type": "stream",
          "name": "stdout",
          "text": [
            "Displaying 8 of 8 matches:\n",
            " , was called a Cape - Cod - man . A happy - go - lucky ; neither craven nor va\n",
            " rivers ; through sun and shade ; by happy hearts or broken ; through all the w\n",
            " most sea - terms , this one is very happy and significant . For the whale is i\n",
            "ng by way of getting a living . Oh ! happy that the world is such an excellent \n",
            "e says , Monsieur , that he ' s very happy to have been of any service to us .\"\n",
            "irst love ; we marry and think to be happy for aye , when pop comes Libra , or \n",
            " , a desperate burglar slid into his happy home , and robbed them all of everyt\n",
            "rous thing in his soul . That glad , happy air , that winsome sky , did at last\n"
          ]
        }
      ]
    },
    {
      "cell_type": "code",
      "source": [
        "#To get similar \n",
        "text1.similar(\"happy\") "
      ],
      "metadata": {
        "colab": {
          "base_uri": "https://localhost:8080/"
        },
        "id": "mAruV6W-_bWC",
        "outputId": "63518208-8419-47b2-a430-757dcf1fec63"
      },
      "execution_count": 55,
      "outputs": [
        {
          "output_type": "stream",
          "name": "stdout",
          "text": [
            "old queer named far ancient well how clear god country taken fat ocean\n",
            "learned man first white interesting convenient island\n"
          ]
        }
      ]
    },
    {
      "cell_type": "code",
      "source": [
        "#how frequently a word appears across the parts of the corpus \n",
        "text1.dispersion_plot([\"America\", \"India\", \"China\", \"Russia\", \"England\", \"Korea\"]) "
      ],
      "metadata": {
        "colab": {
          "base_uri": "https://localhost:8080/",
          "height": 295
        },
        "id": "YW7cDIKR_6CS",
        "outputId": "fe299bdd-ec5b-4d55-c644-cea4099ec13d"
      },
      "execution_count": 56,
      "outputs": [
        {
          "output_type": "display_data",
          "data": {
            "text/plain": [
              "<Figure size 432x288 with 1 Axes>"
            ],
            "image/png": "[encoded data removed]"
          },
          "metadata": {
            "needs_background": "light"
          }
        }
      ]
    },
    {
      "cell_type": "code",
      "source": [
        "# To know how many times the word used in corpus\n",
        "text1.count(\"happy\")"
      ],
      "metadata": {
        "colab": {
          "base_uri": "https://localhost:8080/"
        },
        "id": "4PXLetN_B9st",
        "outputId": "c80d5e57-e2eb-4152-ef96-210b286887ae"
      },
      "execution_count": 57,
      "outputs": [
        {
          "output_type": "execute_result",
          "data": {
            "text/plain": [
              "8"
            ]
          },
          "metadata": {},
          "execution_count": 57
        }
      ]
    },
    {
      "cell_type": "code",
      "source": [
        "set1 = ['happy', 'sad', 'mad']\n",
        "set2 = ['man', 'women', 'children']"
      ],
      "metadata": {
        "id": "8iY8JcfeS8Yk"
      },
      "execution_count": 58,
      "outputs": []
    },
    {
      "cell_type": "code",
      "source": [
        "# adding lists\n",
        "set1 + set2"
      ],
      "metadata": {
        "colab": {
          "base_uri": "https://localhost:8080/"
        },
        "id": "e9jPT83ZUNR4",
        "outputId": "c16b6f7f-590c-42a2-a0be-7b3388b91cf6"
      },
      "execution_count": 59,
      "outputs": [
        {
          "output_type": "execute_result",
          "data": {
            "text/plain": [
              "['happy', 'sad', 'mad', 'man', 'women', 'children']"
            ]
          },
          "metadata": {},
          "execution_count": 59
        }
      ]
    },
    {
      "cell_type": "code",
      "source": [
        "# to ADD a SINGLE item to a list\n",
        "set1.append('laugh')\n",
        "set1"
      ],
      "metadata": {
        "colab": {
          "base_uri": "https://localhost:8080/"
        },
        "id": "xentymGaUqLt",
        "outputId": "d01c8f0d-73b5-49e1-dcb4-fb427a53b707"
      },
      "execution_count": 65,
      "outputs": [
        {
          "output_type": "execute_result",
          "data": {
            "text/plain": [
              "['happy', 'sad', 'mad', 'laugh', 'laugh']"
            ]
          },
          "metadata": {},
          "execution_count": 65
        }
      ]
    },
    {
      "cell_type": "code",
      "source": [
        "#Counting Words Appearing in a Text, Frequency Distribution\n",
        "\n",
        "fdist1 = FreqDist(set1)\n",
        "fdist1"
      ],
      "metadata": {
        "colab": {
          "base_uri": "https://localhost:8080/"
        },
        "id": "fZPQcVq2U9ox",
        "outputId": "a158d8ca-ddcb-4ee5-cf1e-97b14de6085b"
      },
      "execution_count": 67,
      "outputs": [
        {
          "output_type": "execute_result",
          "data": {
            "text/plain": [
              "FreqDist({'happy': 1, 'laugh': 2, 'mad': 1, 'sad': 1})"
            ]
          },
          "metadata": {},
          "execution_count": 67
        }
      ]
    },
    {
      "cell_type": "code",
      "source": [
        "# Most common\n",
        "fdist1.most_common()"
      ],
      "metadata": {
        "colab": {
          "base_uri": "https://localhost:8080/"
        },
        "id": "pUfYOTEKiiRf",
        "outputId": "d08bdc1a-e08a-4d88-e808-b833c6932a40"
      },
      "execution_count": 68,
      "outputs": [
        {
          "output_type": "execute_result",
          "data": {
            "text/plain": [
              "[('laugh', 2), ('happy', 1), ('sad', 1), ('mad', 1)]"
            ]
          },
          "metadata": {},
          "execution_count": 68
        }
      ]
    },
    {
      "cell_type": "code",
      "source": [
        "fdist1.max()"
      ],
      "metadata": {
        "colab": {
          "base_uri": "https://localhost:8080/",
          "height": 35
        },
        "id": "AwCaUYUGi-tX",
        "outputId": "a0037669-fb41-417f-acaf-04e514d4d9e1"
      },
      "execution_count": 69,
      "outputs": [
        {
          "output_type": "execute_result",
          "data": {
            "text/plain": [
              "'laugh'"
            ],
            "application/vnd.google.colaboratory.intrinsic+json": {
              "type": "string"
            }
          },
          "metadata": {},
          "execution_count": 69
        }
      ]
    },
    {
      "cell_type": "code",
      "source": [
        "# Starting with the last term in front cell\n",
        "list(bigrams([1, 2, 3, 4, 5]))"
      ],
      "metadata": {
        "colab": {
          "base_uri": "https://localhost:8080/"
        },
        "id": "ZwIP_2goX106",
        "outputId": "ed5f9f50-599a-4fe3-e18c-c25117440c54"
      },
      "execution_count": 62,
      "outputs": [
        {
          "output_type": "execute_result",
          "data": {
            "text/plain": [
              "[(1, 2), (2, 3), (3, 4), (4, 5)]"
            ]
          },
          "metadata": {},
          "execution_count": 62
        }
      ]
    },
    {
      "cell_type": "code",
      "source": [
        "# Multiple words co-occur\n",
        "text1.collocations()"
      ],
      "metadata": {
        "colab": {
          "base_uri": "https://localhost:8080/"
        },
        "id": "sz48-eeAgjDt",
        "outputId": "b70db7bb-f7ed-450f-cdf5-adad2e94596b"
      },
      "execution_count": 63,
      "outputs": [
        {
          "output_type": "stream",
          "name": "stdout",
          "text": [
            "Sperm Whale; Moby Dick; White Whale; old man; Captain Ahab; sperm\n",
            "whale; Right Whale; Captain Peleg; New Bedford; Cape Horn; cried Ahab;\n",
            "years ago; lower jaw; never mind; Father Mapple; cried Stubb; chief\n",
            "mate; white whale; ivory leg; one hand\n"
          ]
        }
      ]
    },
    {
      "cell_type": "code",
      "source": [
        "# Play with eiza the therapist\n",
        "nltk.chat.eliza.eliza_chat()"
      ],
      "metadata": {
        "id": "XApQKN27nZ0S"
      },
      "execution_count": 80,
      "outputs": []
    },
    {
      "cell_type": "code",
      "source": [
        ""
      ],
      "metadata": {
        "id": "8_fb2FMOnwTY"
      },
      "execution_count": null,
      "outputs": []
    }
  ]
}